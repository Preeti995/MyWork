{
 "cells": [
  {
   "cell_type": "raw",
   "id": "0735e233",
   "metadata": {},
   "source": [
    "# 1. In the below elements which of them are values or an expression? eg:- values can be integer or string and expressions will be mathematical operators.\n",
    "\n",
    "*    -> expression\n",
    "\n",
    "'hello'  -> value\n",
    "\n",
    "-87.8  -> value\n",
    "\n",
    "-  -> expression\n",
    "\n",
    "/  -> expression\n",
    "\n",
    "+   -> expression\n",
    "\n",
    "6  -> value\n"
   ]
  },
  {
   "cell_type": "raw",
   "id": "9f70d151",
   "metadata": {},
   "source": [
    "2. What is the difference between string and variable?\n",
    "\n",
    "=> String is basically a type of data or datatype which holds character or string literal in single or double quotes whereas variable is the name given to any value when we declare it whether it is int, float, string, bool etc. String is array of character and variable is the name of the location which points to a particular value.\n",
    "\n",
    "    example : a = 10                #a is a integer variable holding value 10\n",
    "              str = \"PREETI\"        #here str is the variable and \"PREETI\" is the string"
   ]
  },
  {
   "cell_type": "raw",
   "id": "b34eb1d7",
   "metadata": {},
   "source": [
    "3. Describe three different data types.\n",
    "\n",
    "=> List, Tuple, Dictionary\n",
    "List - List is a data type in Python which can hold values either same type or different type of data.List is declared by enclosing in square brackets []. We can fetch the list values from their index numbers just like we do in array but in array we can store same type of values only. List are mutable and we can change or reassign any value of list at any point of time.\n",
    "\n",
    "eg: l = [1,34.5,[1,2,3],'ineuron',(8,9,'abc'),{'k1':'xyz','k2': 6}, {6,7,9,0}]\n",
    "    l1 = []    #empty list\n",
    "\n",
    "Tuple - Tuple is also a data type in Python which holds value separated by commas and they are enclosed in parentheses (). We can access the tuple value using their index position, but the main difference between List and tuple is that List are mutable whereas Tuple are immutable. A tuple once declared after that we can't change any value of that tuple. We can concatenate tuples.\n",
    "\n",
    "eg: t = (1,3,5,[4,5,6],'abc')\n",
    "    t1 = ()   #empty tuple\n",
    "\n",
    "Dictionary - Dictionary in python is used to store values in key value pair just like in maps. The key-value pair is enclosed in  curly braces {} and separated by comma. The key should be unique in the entire dictionary but the values can be repeated.\n",
    "\n",
    "eg: d = {'k1':2,'k2':4,'k3':'abc',3:5,'l':[1,2,3,4]}\n",
    "    d1 = {}   #empty dictionary"
   ]
  },
  {
   "cell_type": "raw",
   "id": "72685d5e",
   "metadata": {},
   "source": [
    "4. What is an expression made up of? What do all expressions do?\n",
    "\n",
    "=> Expression is made up of operands, operators and constant values. An expression is responsible to perform operations(addition, substraction, multiplication etc) based on the type of operators used. \n",
    "eg : a = b + c\n",
    "     sum = 10 % 2\n",
    "     num = 121"
   ]
  },
  {
   "cell_type": "raw",
   "id": "38f2140c",
   "metadata": {},
   "source": [
    "5. This assignment statements, like spam = 10. What is the difference between an expression and a statement?\n",
    "\n",
    "=> An expression is a combination of operands, operators and constant values. An expression is responsible to perform operations and return the value of that.\n",
    "A statement is part of the code which will do something for us but it will not return any value. Like the statements written under if condition are supposed to do some functionality for us."
   ]
  },
  {
   "cell_type": "raw",
   "id": "24d09c02",
   "metadata": {},
   "source": [
    "6. After running the following code, what does the variable bacon contain?\n",
    "bacon = 22\n",
    "bacon + 1\n",
    "\n",
    "=> bacon will contain the same value 22 because in bacon + 1 we are only performing the arithmetic operation and not reassigning it to bacon variable. The value of bacon would have changed to 23 if we would have done as below :\n",
    "bacon = 22\n",
    "bacon = bacon + 1\n"
   ]
  },
  {
   "cell_type": "code",
   "execution_count": 1,
   "id": "1f4cfe32",
   "metadata": {},
   "outputs": [],
   "source": [
    "bacon = 22\n"
   ]
  },
  {
   "cell_type": "code",
   "execution_count": 6,
   "id": "f423adda",
   "metadata": {},
   "outputs": [
    {
     "data": {
      "text/plain": [
       "23"
      ]
     },
     "execution_count": 6,
     "metadata": {},
     "output_type": "execute_result"
    }
   ],
   "source": [
    "\n",
    "bacon + 1"
   ]
  },
  {
   "cell_type": "code",
   "execution_count": 2,
   "id": "1eddaacd",
   "metadata": {},
   "outputs": [
    {
     "data": {
      "text/plain": [
       "22"
      ]
     },
     "execution_count": 2,
     "metadata": {},
     "output_type": "execute_result"
    }
   ],
   "source": [
    "bacon  #as we have not reassigned bacon + 1 to bacon, hence it will return bacon = 22"
   ]
  },
  {
   "cell_type": "code",
   "execution_count": 3,
   "id": "43732588",
   "metadata": {},
   "outputs": [
    {
     "data": {
      "text/plain": [
       "23"
      ]
     },
     "execution_count": 3,
     "metadata": {},
     "output_type": "execute_result"
    }
   ],
   "source": [
    "bacon = bacon +1   #here I am reassigning bacon = bacon + 1 so the value of bacon will be changed to 23 from 22\n",
    "bacon"
   ]
  },
  {
   "cell_type": "raw",
   "id": "ca390e46",
   "metadata": {},
   "source": [
    "7. What should the values of the following two terms be?\n",
    "\n",
    "'spam' + 'spamspam'  -> ‘spamspamspam’\n",
    "\n",
    "'spam' * 3  -> ‘spamspamspam’\n"
   ]
  },
  {
   "cell_type": "raw",
   "id": "73e4c8c2",
   "metadata": {},
   "source": [
    "8. Why is eggs a valid variable name while 100 is invalid?\n",
    "\n",
    "=> 100 is invalid because we can't declare a variable name starting with a number. A variable name should start with an alphabet or an underscore. Hence, eggs is a valid variable name while 100 is invalid"
   ]
  },
  {
   "cell_type": "raw",
   "id": "8eccb805",
   "metadata": {},
   "source": [
    "9. What three functions can be used to get the integer, floating-point number, or string version of a value?\n",
    "\n",
    "=> int(), float(), str()"
   ]
  },
  {
   "cell_type": "raw",
   "id": "0485b24c",
   "metadata": {},
   "source": [
    "10. Why does this expression cause an error? How can you fix it?\n",
    "'I have eaten ' + 99 + ' burritos.'\n",
    "\n",
    "\n",
    "=> The expression will cause an error because concatenation is done only on string and as 99 is not in quotes so it's type is int and because of that error is thrown. \n",
    "I can fix it by putting 99 in quotes.\n",
    "'I have eaten ' + ‘99’ + ' burritos.'\n",
    "Output -> 'I have eaten 99 burritos.'\n"
   ]
  },
  {
   "cell_type": "code",
   "execution_count": 4,
   "id": "e364cfa5",
   "metadata": {},
   "outputs": [
    {
     "ename": "TypeError",
     "evalue": "can only concatenate str (not \"int\") to str",
     "output_type": "error",
     "traceback": [
      "\u001b[1;31m---------------------------------------------------------------------------\u001b[0m",
      "\u001b[1;31mTypeError\u001b[0m                                 Traceback (most recent call last)",
      "Input \u001b[1;32mIn [4]\u001b[0m, in \u001b[0;36m<cell line: 1>\u001b[1;34m()\u001b[0m\n\u001b[1;32m----> 1\u001b[0m \u001b[38;5;124;43m'\u001b[39;49m\u001b[38;5;124;43mI have eaten \u001b[39;49m\u001b[38;5;124;43m'\u001b[39;49m\u001b[43m \u001b[49m\u001b[38;5;241;43m+\u001b[39;49m\u001b[43m \u001b[49m\u001b[38;5;241;43m99\u001b[39;49m \u001b[38;5;241m+\u001b[39m \u001b[38;5;124m'\u001b[39m\u001b[38;5;124m burritos.\u001b[39m\u001b[38;5;124m'\u001b[39m\n",
      "\u001b[1;31mTypeError\u001b[0m: can only concatenate str (not \"int\") to str"
     ]
    }
   ],
   "source": [
    "'I have eaten ' + 99 + ' burritos.'"
   ]
  },
  {
   "cell_type": "code",
   "execution_count": 8,
   "id": "e55c6d6c",
   "metadata": {},
   "outputs": [
    {
     "data": {
      "text/plain": [
       "'I have eaten 99 burritos.'"
      ]
     },
     "execution_count": 8,
     "metadata": {},
     "output_type": "execute_result"
    }
   ],
   "source": [
    "'I have eaten ' + '99' + ' burritos.'"
   ]
  }
 ],
 "metadata": {
  "kernelspec": {
   "display_name": "Python 3 (ipykernel)",
   "language": "python",
   "name": "python3"
  },
  "language_info": {
   "codemirror_mode": {
    "name": "ipython",
    "version": 3
   },
   "file_extension": ".py",
   "mimetype": "text/x-python",
   "name": "python",
   "nbconvert_exporter": "python",
   "pygments_lexer": "ipython3",
   "version": "3.9.12"
  }
 },
 "nbformat": 4,
 "nbformat_minor": 5
}
